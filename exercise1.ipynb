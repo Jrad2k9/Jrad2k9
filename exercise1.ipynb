# -*- coding: utf-8 -*-
"""
Spyder Editor

This is a temporary script file.
"""
print("jarett botello")
print("j0109010")
print("were gonna need a bigger boat")


